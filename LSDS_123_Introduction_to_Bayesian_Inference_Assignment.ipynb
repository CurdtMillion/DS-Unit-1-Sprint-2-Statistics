{
  "nbformat": 4,
  "nbformat_minor": 0,
  "metadata": {
    "colab": {
      "name": "LSDS_123_Introduction_to_Bayesian_Inference_Assignment.ipynb",
      "provenance": [],
      "include_colab_link": true
    },
    "kernelspec": {
      "name": "python3",
      "display_name": "Python 3"
    }
  },
  "cells": [
    {
      "cell_type": "markdown",
      "metadata": {
        "id": "view-in-github",
        "colab_type": "text"
      },
      "source": [
        "<a href=\"https://colab.research.google.com/github/CurdtMillion/DS-Unit-1-Sprint-2-Statistics/blob/master/LSDS_123_Introduction_to_Bayesian_Inference_Assignment.ipynb\" target=\"_parent\"><img src=\"https://colab.research.google.com/assets/colab-badge.svg\" alt=\"Open In Colab\"/></a>"
      ]
    },
    {
      "cell_type": "markdown",
      "metadata": {
        "id": "H7OLbevlbd_Z",
        "colab_type": "text"
      },
      "source": [
        "# Lambda School Data Science Module 123\n",
        "\n",
        "## Introduction to Bayesian Inference\n",
        "\n",
        "\n"
      ]
    },
    {
      "cell_type": "markdown",
      "metadata": {
        "id": "P-DzzRk5bf0z",
        "colab_type": "text"
      },
      "source": [
        "## Assignment - Code it up!\n",
        "\n",
        "We used pure math to apply Bayes Theorem to drug tests. Now write Python code to reproduce the results! This is purposefully open ended - you'll have to think about how you should represent probabilities and events. You can and should look things up.\n",
        "\n",
        "Specific goals/targets:\n",
        "\n",
        "### 1) Write a function \n",
        "\n",
        "`def prob_drunk_given_positive(prob_drunk_prior, false_positive_rate):` \n",
        "\n",
        "You should only truly need these two values in order to apply Bayes Theorem. In this example, imagine that individuals are taking a breathalyzer test with an 8% false positive rate, a 100% true positive rate, and that our prior belief about drunk driving in the population is 1/1000. \n",
        " - What is the probability that a person is drunk after one positive breathalyzer test?\n",
        " - What is the probability that a person is drunk after two positive breathalyzer tests?\n",
        " - How many positive breathalyzer tests are needed in order to have a probability that's greater than 95% that a person is drunk beyond the legal limit?\n",
        "\n",
        "### 2) Explore `scipy.stats.bayes_mvs`  \n",
        "Read its documentation, and experiment with it on data you've tested in other ways earlier this week.\n",
        " - Create a visualization comparing the results of a Bayesian approach to a traditional/frequentist approach. (with a large sample size they should look close to identical, however, take this opportunity to practice visualizing condfidence intervals in general. The following are some potential ways that you could visualize confidence intervals on your graph:\n",
        "  - [Matplotlib Error Bars](https://matplotlib.org/3.1.1/api/_as_gen/matplotlib.pyplot.errorbar.html)\n",
        "  - [Seaborn barplot with error bars](https://seaborn.pydata.org/generated/seaborn.barplot.html)\n",
        "  - [Vertical ines to show bounds of confidence interval](https://www.simplypsychology.org/confidence-interval.jpg)\n",
        "  - [Confidence Intervals on Box Plots](https://matplotlib.org/3.1.1/api/_as_gen/matplotlib.axes.Axes.boxplot.html)\n",
        "\n",
        "### 3) In your own words, summarize the difference between Bayesian and Frequentist statistics\n",
        "\n",
        "If you're unsure where to start, check out [this blog post of Bayes theorem with Python](https://dataconomy.com/2015/02/introduction-to-bayes-theorem-with-python/).\n",
        "\n"
      ]
    },
    {
      "cell_type": "code",
      "metadata": {
        "id": "xpVhZyUnbf7o",
        "colab_type": "code",
        "colab": {}
      },
      "source": [
        "# TODO - code!\n",
        "# Question #1 Write the function\n",
        "# \n",
        "# 8% false positive rate, a 100% true positive rate, and that our prior belief about drunk \n",
        "# driving in the population is 1/1000.\n",
        "\n",
        "# prior belief\n",
        "p_drunk = 1/1000\n",
        "# This is the complement of our prior belief\n",
        "p_not_drunk = 1-p_drunk\n",
        "# True positive rate\n",
        "p_pos_given_drunk = 1\n",
        "# False positive rate\n",
        "p_pos_given_not_drunk = .08"
      ],
      "execution_count": 0,
      "outputs": []
    },
    {
      "cell_type": "code",
      "metadata": {
        "id": "sua0aheJlhQ4",
        "colab_type": "code",
        "outputId": "e8217a29-d7a1-4d2b-b089-f9d63e318d44",
        "colab": {
          "base_uri": "https://localhost:8080/",
          "height": 34
        }
      },
      "source": [
        "# Getting the numerator through Bayes Rule\n",
        "numerator=p_pos_given_drunk*p_drunk\n",
        "numerator"
      ],
      "execution_count": 0,
      "outputs": [
        {
          "output_type": "execute_result",
          "data": {
            "text/plain": [
              "0.001"
            ]
          },
          "metadata": {
            "tags": []
          },
          "execution_count": 4
        }
      ]
    },
    {
      "cell_type": "code",
      "metadata": {
        "id": "ZQz7oFB9lrt5",
        "colab_type": "code",
        "outputId": "10a3e3d1-6984-459b-82d9-a00d52630afe",
        "colab": {
          "base_uri": "https://localhost:8080/",
          "height": 34
        }
      },
      "source": [
        "# Getting the marginal\n",
        "marginal=(p_pos_given_drunk*p_drunk) + (p_pos_given_not_drunk*p_not_drunk)\n",
        "marginal"
      ],
      "execution_count": 0,
      "outputs": [
        {
          "output_type": "execute_result",
          "data": {
            "text/plain": [
              "0.08092"
            ]
          },
          "metadata": {
            "tags": []
          },
          "execution_count": 5
        }
      ]
    },
    {
      "cell_type": "code",
      "metadata": {
        "id": "s3M4CtHCl_Um",
        "colab_type": "code",
        "outputId": "f41d57d2-ddf8-43f7-f27a-f3b3890295fc",
        "colab": {
          "base_uri": "https://localhost:8080/",
          "height": 34
        }
      },
      "source": [
        "# Here's the probability that someone is drunk, given that they tested +\n",
        "posterior = numerator/marginal\n",
        "posterior"
      ],
      "execution_count": 0,
      "outputs": [
        {
          "output_type": "execute_result",
          "data": {
            "text/plain": [
              "0.012357884330202669"
            ]
          },
          "metadata": {
            "tags": []
          },
          "execution_count": 6
        }
      ]
    },
    {
      "cell_type": "code",
      "metadata": {
        "id": "Ve9FJmNUmIHr",
        "colab_type": "code",
        "outputId": "599567e6-11e0-4aef-a017-946b4e863c7e",
        "colab": {
          "base_uri": "https://localhost:8080/",
          "height": 34
        }
      },
      "source": [
        "# 2nd iteration to check the liklihood they are drunk\n",
        "p_drunk = posterior\n",
        "p_not_drunk = 1-p_drunk\n",
        "numerator=p_pos_given_drunk*p_drunk\n",
        "marginal=(p_pos_given_drunk*p_drunk) + (p_pos_given_not_drunk*p_not_drunk)\n",
        "posterior = numerator/marginal\n",
        "posterior"
      ],
      "execution_count": 0,
      "outputs": [
        {
          "output_type": "execute_result",
          "data": {
            "text/plain": [
              "0.13525210993291495"
            ]
          },
          "metadata": {
            "tags": []
          },
          "execution_count": 7
        }
      ]
    },
    {
      "cell_type": "code",
      "metadata": {
        "id": "Aq7a3CTvmq1p",
        "colab_type": "code",
        "outputId": "763fd153-0963-4299-8ee1-e3d4d4e3d136",
        "colab": {
          "base_uri": "https://localhost:8080/",
          "height": 34
        }
      },
      "source": [
        "#3rd test\n",
        "p_drunk = posterior\n",
        "p_not_drunk = 1-p_drunk\n",
        "numerator=p_pos_given_drunk*p_drunk\n",
        "marginal=(p_pos_given_drunk*p_drunk) + (p_pos_given_not_drunk*p_not_drunk)\n",
        "posterior = numerator/marginal\n",
        "posterior"
      ],
      "execution_count": 0,
      "outputs": [
        {
          "output_type": "execute_result",
          "data": {
            "text/plain": [
              "0.6615996951348605"
            ]
          },
          "metadata": {
            "tags": []
          },
          "execution_count": 8
        }
      ]
    },
    {
      "cell_type": "code",
      "metadata": {
        "id": "LiB3x2wYnAoc",
        "colab_type": "code",
        "outputId": "0df3ebf5-a65c-4ba7-f903-63e812027b02",
        "colab": {
          "base_uri": "https://localhost:8080/",
          "height": 34
        }
      },
      "source": [
        "# And the 4th test\n",
        "p_drunk = posterior\n",
        "p_not_drunk = 1-p_drunk\n",
        "numerator=p_pos_given_drunk*p_drunk\n",
        "marginal=(p_pos_given_drunk*p_drunk) + (p_pos_given_not_drunk*p_not_drunk)\n",
        "posterior = numerator/marginal\n",
        "posterior"
      ],
      "execution_count": 0,
      "outputs": [
        {
          "output_type": "execute_result",
          "data": {
            "text/plain": [
              "0.9606895076105054"
            ]
          },
          "metadata": {
            "tags": []
          },
          "execution_count": 9
        }
      ]
    },
    {
      "cell_type": "code",
      "metadata": {
        "id": "sDhnfl57nEUw",
        "colab_type": "code",
        "colab": {}
      },
      "source": [
        "# Showing about a 96.1% accuracy rate, on to making a function:\n",
        "def prob_drunk(prior, false_rate, true_rate, number_of_tests):\n",
        "  posterior=prior\n",
        "  for test in range(0, number_of_tests):\n",
        "    p_drunk= posterior\n",
        "    p_not_drunk= 1-p_drunk\n",
        "    p_pos_given_drunk= false_rate\n",
        "    p_pos_given_not_drunk= true_rate\n",
        "    conditional=p_pos_given_drunk*p_drunk\n",
        "    marginal = (conditional+(p_pos_given_not_drunk*p_not_drunk))\n",
        "    posterior = (conditional*p_drunk)/marginal\n",
        "  return posterior"
      ],
      "execution_count": 0,
      "outputs": []
    },
    {
      "cell_type": "code",
      "metadata": {
        "id": "3Wqavfqcn6hG",
        "colab_type": "code",
        "outputId": "c71879e2-d962-4341-b44e-41f5e7794458",
        "colab": {
          "base_uri": "https://localhost:8080/",
          "height": 34
        }
      },
      "source": [
        "# Test it out!\n",
        "prob_drunk(1/1000, .08, 1, 1)"
      ],
      "execution_count": 0,
      "outputs": [
        {
          "output_type": "execute_result",
          "data": {
            "text/plain": [
              "8.007366777435241e-08"
            ]
          },
          "metadata": {
            "tags": []
          },
          "execution_count": 29
        }
      ]
    },
    {
      "cell_type": "code",
      "metadata": {
        "id": "EA43jQnNqSoW",
        "colab_type": "code",
        "colab": {}
      },
      "source": [
        "# To answer question #1 of how many tests before accuracy of 95%, it happened on the 4th test.\n",
        "# I do not understand the aburdly low percentage on the test when I do the function.\n",
        "# And as I change the number of tests, the accuracy gets closer and closer to zero, until the\n",
        "# 8th test, which then the returned value is 0.0\n",
        "#\n",
        "#\n",
        "# Question #3, in my own words, what is the difference between Bayesian and Frequentist statistics?\n",
        "#\n",
        "# The main difference is how probability is used. Frequentists use probability to model certain processes broadly, which is what is called sampling. \n",
        "# Bayesians use probability more widely to model both sampling and other uncertainties. Bayesians use prior probabilities in the beginning, whereas\n",
        "# Frequentists do not do this, and what the Bayesians use as prior probability, Frequentists consider this an unknown constant, which lies w/in a \n",
        "# range or not. \n",
        "# Per somemore reading, another auther seems to imply that theres a difference in how probabilty is defined or should be defined."
      ],
      "execution_count": 0,
      "outputs": []
    },
    {
      "cell_type": "markdown",
      "metadata": {
        "id": "uWgWjp3PQ3Sq",
        "colab_type": "text"
      },
      "source": [
        "## Resources"
      ]
    },
    {
      "cell_type": "markdown",
      "metadata": {
        "id": "QRgHqmYIQ9qn",
        "colab_type": "text"
      },
      "source": [
        "- [Worked example of Bayes rule calculation](https://en.wikipedia.org/wiki/Bayes'_theorem#Examples) (helpful as it fully breaks out the denominator)\n",
        "- [Source code for mvsdist in scipy](https://github.com/scipy/scipy/blob/90534919e139d2a81c24bf08341734ff41a3db12/scipy/stats/morestats.py#L139)"
      ]
    },
    {
      "cell_type": "markdown",
      "metadata": {
        "id": "GP7Jv1XvwtkX",
        "colab_type": "text"
      },
      "source": [
        "## Stretch Goals:\n",
        "\n",
        "- Go back and study the content from Modules 1 & 2 to make sure that you're really comfortable with them.\n",
        "- Apply a Bayesian technique to a problem you previously worked (in an assignment or project work) on from a frequentist (standard) perspective\n",
        "- Check out [PyMC3](https://docs.pymc.io/) (note this goes beyond hypothesis tests into modeling) - read the guides and work through some examples\n",
        "- Take PyMC3 further - see if you can build something with it!"
      ]
    },
    {
      "cell_type": "code",
      "metadata": {
        "id": "iDi0eFr1x-v_",
        "colab_type": "code",
        "colab": {}
      },
      "source": [
        ""
      ],
      "execution_count": 0,
      "outputs": []
    }
  ]
}